{
 "cells": [
  {
   "cell_type": "code",
   "execution_count": 62,
   "metadata": {},
   "outputs": [],
   "source": [
    "import numpy as np\n",
    "import pandas as pd\n",
    "import matplotlib.pyplot as plt\n",
    "from generador import genera_separacion, no_cortan\n",
    "from tspn_b import tspn_b\n",
    "from neighborhood import Circle\n",
    "\n"
   ]
  },
  {
   "cell_type": "code",
   "execution_count": 77,
   "metadata": {},
   "outputs": [],
   "source": [
    "largo = 16\n",
    "alto = 10\n",
    "\n",
    "for n_vertices in [6, 8, 10, 12, 14, 16, 18, 20]:\n",
    "    for iter in range(30):\n",
    "\n",
    "        for radii in [0.25, 0.5, 1]:\n",
    "            np.random.seed(iter)\n",
    "\n",
    "            vertices_x = list(np.random.uniform(low=0, high=largo, size = n_vertices))\n",
    "            vertices_y = list(np.random.uniform(low=0, high=alto, size = n_vertices))\n",
    "\n",
    "            bolas = []\n",
    "            vertices = []\n",
    "\n",
    "            for x, y in zip(vertices_x, vertices_y):\n",
    "                bolas.append([x, y, radii])\n",
    "                vertices.append(np.array([x, y]))\n",
    "            \n",
    "            np.savetxt('instancias_smith/bolas' + str(n_vertices) + '-' + str(iter) + '-' + str(radii) + '.csv', bolas, delimiter = \",\")\n",
    "\n",
    "            r_init = 1\n",
    "\n",
    "            barreras = []\n",
    "            for i in range(10):\n",
    "                # print(i)\n",
    "                for punto1 in vertices:\n",
    "                    for punto2 in vertices:\n",
    "                        if any(punto1 != punto2):\n",
    "                            if all([no_cortan([punto1, punto2], barrera) for barrera in barreras]):\n",
    "                                r = r_init\n",
    "                                P1, P2 = genera_separacion(punto1, punto2, r)\n",
    "                                while any([not(no_cortan([P1, P2], barrera)) for barrera in barreras]):\n",
    "                                    r = r / 2\n",
    "                                    # print(r)\n",
    "                                    P1, P2 = genera_separacion(punto1, punto2, r)\n",
    "                                barreras.append([P1, P2])\n",
    "                # Circles.append(Circle(center = [x, y], radii = radii))\n",
    "            segmentos = []\n",
    "            for b in barreras:\n",
    "                # ax.plot([b[0][0], b[1][0]], [b[0][1], b[1][1]], c = 'red')\n",
    "                segmentos.append([b[0][0], b[0][1], b[1][0], b[1][1]])\n",
    "\n",
    "            np.savetxt('instancias_smith/barreras' + str(n_vertices) + '-' + str(iter) + '-' + str(radii) + '.csv', segmentos, delimiter = \",\")\n",
    "\n"
   ]
  },
  {
   "cell_type": "code",
   "execution_count": 64,
   "metadata": {},
   "outputs": [
    {
     "name": "stdout",
     "output_type": "stream",
     "text": [
      "[array([6.97591843, 6.19270966]), array([0.41481971, 2.99654674]), array([8.79459965, 2.66827275]), array([6.96515828, 6.21133833]), array([6.72588483, 5.29142094]), array([5.28535714, 1.34579945]), array([3.27437814, 5.13578121])]\n"
     ]
    }
   ],
   "source": []
  },
  {
   "cell_type": "code",
   "execution_count": 72,
   "metadata": {},
   "outputs": [
    {
     "data": {
      "image/png": "[encoded data removed]",
      "text/plain": [
       "<Figure size 432x288 with 1 Axes>"
      ]
     },
     "metadata": {
      "needs_background": "light"
     },
     "output_type": "display_data"
    }
   ],
   "source": [
    "# fig, ax = plt.subplots()\n",
    "\n",
    "\n",
    "# for x, y in zip(vertices_x, vertices_y):\n",
    "#     ax.add_patch(plt.Circle((x, y), radii))\n",
    "\n",
    "# for b in barreras:\n",
    "#     ax.plot([b[0][0], b[1][0]], [b[0][1], b[1][1]], c = 'red')\n",
    "    \n",
    "# ax.set_xlim((0, largo))\n",
    "# ax.set_ylim((0, alto))\n",
    "# ax.set_aspect('equal')"
   ]
  },
  {
   "cell_type": "code",
   "execution_count": 73,
   "metadata": {},
   "outputs": [
    {
     "name": "stdout",
     "output_type": "stream",
     "text": [
      "Set parameter Threads to value 6\n",
      "Set parameter TimeLimit to value 3600\n",
      "Set parameter NumericFocus to value 1\n",
      "Set parameter NonConvex to value 2\n",
      "Gurobi Optimizer version 9.5.2 build v9.5.2rc0 (win64)\n",
      "Thread count: 8 physical cores, 16 logical processors, using up to 6 threads\n",
      "Optimize a model with 45814 rows, 34316 columns and 95103 nonzeros\n",
      "Model fingerprint: 0x312b15fd\n",
      "Model has 1061 quadratic constraints\n",
      "Variable types: 2197 continuous, 32119 integer (32119 binary)\n",
      "Coefficient statistics:\n",
      "  Matrix range     [4e-04, 3e+01]\n",
      "  QMatrix range    [1e+00, 1e+00]\n",
      "  QLMatrix range   [6e-04, 4e+01]\n",
      "  Objective range  [1e+00, 1e+00]\n",
      "  Bounds range     [1e+00, 1e+00]\n",
      "  RHS range        [7e-03, 4e+01]\n",
      "  QRHS range       [6e-04, 2e+01]\n",
      "Presolve removed 42977 rows and 32036 columns\n",
      "Presolve time: 0.46s\n",
      "Presolved: 2967 rows, 2306 columns, 10126 nonzeros\n",
      "Presolved model has 285 quadratic constraint(s)\n",
      "Presolved model has 26 bilinear constraint(s)\n",
      "Variable types: 1360 continuous, 946 integer (946 binary)\n",
      "\n",
      "Root relaxation: objective 5.903883e+00, 1633 iterations, 0.05 seconds (0.03 work units)\n",
      "\n",
      "    Nodes    |    Current Node    |     Objective Bounds      |     Work\n",
      " Expl Unexpl |  Obj  Depth IntInf | Incumbent    BestBd   Gap | It/Node Time\n",
      "\n",
      "     0     0    5.92782    0   55          -    5.92782      -     -    0s\n",
      "     0     0    8.91307    0  133          -    8.91307      -     -    0s\n",
      "     0     0    8.91307    0  133          -    8.91307      -     -    0s\n",
      "     0     0   10.30253    0   99          -   10.30253      -     -    0s\n",
      "     0     0   10.42139    0  146          -   10.42139      -     -    0s\n",
      "     0     0   12.85669    0  189          -   12.85669      -     -    0s\n",
      "     0     0   13.11352    0  166          -   13.11352      -     -    1s\n",
      "     0     0   14.68869    0  171          -   14.68869      -     -    1s\n",
      "     0     0   14.92676    0  131          -   14.92676      -     -    1s\n",
      "     0     0   15.25445    0   72          -   15.25445      -     -    1s\n",
      "     0     0   15.36594    0   73          -   15.36594      -     -    1s\n",
      "     0     0   15.62750    0  189          -   15.62750      -     -    1s\n",
      "     0     0   15.72456    0  117          -   15.72456      -     -    1s\n",
      "     0     0   16.07835    0  171          -   16.07835      -     -    1s\n",
      "     0     0   16.08188    0  180          -   16.08188      -     -    1s\n",
      "     0     0   16.18014    0  122          -   16.18014      -     -    1s\n",
      "     0     0   16.18035    0  118          -   16.18035      -     -    1s\n",
      "     0     0   16.36412    0  151          -   16.36412      -     -    1s\n",
      "     0     0   16.36426    0  151          -   16.36426      -     -    1s\n",
      "     0     0   16.39287    0  179          -   16.39287      -     -    1s\n",
      "     0     0   16.39287    0  128          -   16.39287      -     -    1s\n",
      "     0     0   16.39287    0   63          -   16.39287      -     -    2s\n",
      "     0     0   16.39287    0  139          -   16.39287      -     -    2s\n",
      "     0     0   16.39287    0  133          -   16.39287      -     -    2s\n",
      "     0     0   16.39287    0  107          -   16.39287      -     -    2s\n",
      "     0     0   16.46993    0  123          -   16.46993      -     -    2s\n",
      "     0     0   16.54893    0   99          -   16.54893      -     -    2s\n",
      "     0     0   16.62355    0  103          -   16.62355      -     -    2s\n",
      "     0     0   16.71133    0  107          -   16.71133      -     -    2s\n",
      "     0     0   16.71147    0  104          -   16.71147      -     -    2s\n",
      "     0     0   16.72924    0  108          -   16.72924      -     -    2s\n",
      "     0     0   16.75537    0  114          -   16.75537      -     -    2s\n",
      "     0     0   16.76415    0   97          -   16.76415      -     -    2s\n",
      "     0     0   16.76559    0  100          -   16.76559      -     -    2s\n",
      "     0     0   16.76602    0  102          -   16.76602      -     -    2s\n",
      "     0     0   16.76602    0  100          -   16.76602      -     -    2s\n",
      "     0     2   16.81801    0  100          -   16.81801      -     -    3s\n",
      "   773   685   18.84853  111    -          -   16.98905      -  44.1    5s\n",
      "* 1312  1116             123      55.7957521   16.98905  69.6%  43.1    5s\n",
      "* 1351  1132             124      55.7940556   16.98905  69.6%  42.8    6s\n",
      "H 1516  1169                      19.6425769   17.16596  12.6%  40.4    9s\n",
      "H 1517  1110                      19.6425729   17.16596  12.6%  40.4    9s\n",
      "H 1517  1054                      19.6425706   17.16596  12.6%  40.4    9s\n",
      "H 1519  1002                      19.6399600   17.19262  12.5%  40.4    9s\n",
      "  1525  1006   19.18531   64  133   19.63996   17.29409  11.9%  40.2   10s\n",
      "H 1528   957                      19.4529167   17.31447  11.0%  40.1   10s\n",
      "H 1529   909                      19.4529147   17.31447  11.0%  40.1   10s\n",
      "H 1531   865                      19.4529130   17.33311  10.9%  40.0   10s\n",
      "  1553   882   17.46802   13   96   19.45291   17.46802  10.2%  47.8   19s\n",
      "  1555   884   17.70096   14   96   19.45291   17.63874  9.33%  48.2   20s\n",
      "H 1731   867                      18.8254948   18.09414  3.88%  57.2   21s\n",
      "H 1745   814                      18.8254917   18.19998  3.32%  57.7   21s\n",
      "H 1767   771                      18.8153639   18.19998  3.27%  57.8   22s\n",
      "H 1802   723                      18.8153608   18.19998  3.27%  57.5   22s\n",
      "* 1915   649              64      18.8153580   18.30305  2.72%  61.3   23s\n",
      "* 2302   619              77      18.8153572   18.43564  2.02%  57.5   24s\n",
      "  2416   592   18.81536   82    -   18.81536   18.44039  1.99%  56.8   25s\n",
      "* 2888   527              79      18.8153571   18.79695  0.10%  50.2   26s\n",
      "* 2918   457              80      18.8153570   18.79695  0.10%  49.8   26s\n",
      "* 3697   640              98      18.8153570   18.80839  0.04%  40.4   28s\n",
      "* 4040   589             115      18.8083939   18.80839  0.00%  37.2   28s\n",
      "\n",
      "Cutting planes:\n",
      "  Gomory: 12\n",
      "  Cover: 7\n",
      "  Implied bound: 1\n",
      "  Projected implied bound: 3\n",
      "  Clique: 32\n",
      "  MIR: 29\n",
      "  StrongCG: 2\n",
      "  Flow cover: 144\n",
      "  Flow path: 5\n",
      "  Inf proof: 1\n",
      "  Zero half: 4\n",
      "  Network: 6\n",
      "  RLT: 37\n",
      "  Relax-and-lift: 9\n",
      "\n",
      "Explored 4068 nodes (161762 simplex iterations) in 28.74 seconds (20.46 work units)\n",
      "Thread count was 6 (of 16 available processors)\n",
      "\n",
      "Solution count 10: 18.8084 18.8154 18.8154 ... 18.8255\n",
      "\n",
      "Optimal solution found (tolerance 1.00e-04)\n",
      "Warning: max constraint violation (8.2437e-06) exceeds tolerance\n",
      "Best objective 1.880839393183e+01, best bound 1.880839257199e+01, gap 0.0000%\n"
     ]
    },
    {
     "ename": "ValueError",
     "evalue": "Can not reset the axes.  You are probably trying to re-use an artist in more than one Axes which is not supported",
     "output_type": "error",
     "traceback": [
      "\u001b[1;31m---------------------------------------------------------------------------\u001b[0m",
      "\u001b[1;31mValueError\u001b[0m                                Traceback (most recent call last)",
      "\u001b[1;32mc:\\Users\\Justo Puerto\\UNIVERSIDAD DE SEVILLA\\Grupo de Trabajo de Justo - General\\Routes_Barriers\\generador_smith.ipynb Celda 5\u001b[0m in \u001b[0;36m<module>\u001b[1;34m\u001b[0m\n\u001b[1;32m----> <a href='vscode-notebook-cell:/c%3A/Users/Justo%20Puerto/UNIVERSIDAD%20DE%20SEVILLA/Grupo%20de%20Trabajo%20de%20Justo%20-%20General/Routes_Barriers/generador_smith.ipynb#W4sZmlsZQ%3D%3D?line=0'>1</a>\u001b[0m resultados \u001b[39m=\u001b[39m tspn_b(barreras, Circles, A4 \u001b[39m=\u001b[39;49m \u001b[39mFalse\u001b[39;49;00m, dominant\u001b[39m=\u001b[39;49m\u001b[39mFalse\u001b[39;49;00m, prepro\u001b[39m=\u001b[39;49m\u001b[39mTrue\u001b[39;49;00m, log\u001b[39m=\u001b[39;49m\u001b[39mFalse\u001b[39;49;00m, picture\u001b[39m=\u001b[39;49m\u001b[39mTrue\u001b[39;49;00m, time_limit\u001b[39m=\u001b[39;49m\u001b[39m3600\u001b[39;49m, init \u001b[39m=\u001b[39;49m \u001b[39mFalse\u001b[39;49;00m)\n",
      "File \u001b[1;32mc:\\Users\\Justo Puerto\\UNIVERSIDAD DE SEVILLA\\Grupo de Trabajo de Justo - General\\Routes_Barriers\\tspn_b.py:761\u001b[0m, in \u001b[0;36mtspn_b\u001b[1;34m(barriers, neighborhoods, prepro, A4, dominant, log, picture, time_limit, init)\u001b[0m\n\u001b[0;32m    758\u001b[0m     ax\u001b[39m.\u001b[39mplot([b[\u001b[39m0\u001b[39m][\u001b[39m0\u001b[39m], b[\u001b[39m1\u001b[39m][\u001b[39m0\u001b[39m]], [b[\u001b[39m0\u001b[39m][\u001b[39m1\u001b[39m], b[\u001b[39m1\u001b[39m][\u001b[39m1\u001b[39m]], c\u001b[39m=\u001b[39m\u001b[39m'\u001b[39m\u001b[39mred\u001b[39m\u001b[39m'\u001b[39m)\n\u001b[0;32m    760\u001b[0m \u001b[39mfor\u001b[39;00m n \u001b[39min\u001b[39;00m neighborhoods:\n\u001b[1;32m--> 761\u001b[0m     ax\u001b[39m.\u001b[39;49madd_artist(n\u001b[39m.\u001b[39;49martist)\n\u001b[0;32m    763\u001b[0m p_vals \u001b[39m=\u001b[39m model\u001b[39m.\u001b[39mgetAttr(\u001b[39m'\u001b[39m\u001b[39mx\u001b[39m\u001b[39m'\u001b[39m, point)\n\u001b[0;32m    764\u001b[0m \u001b[39mprint\u001b[39m(p_vals)\n",
      "File \u001b[1;32mc:\\Users\\Justo Puerto\\AppData\\Local\\Programs\\Python\\Python38\\lib\\site-packages\\matplotlib\\axes\\_base.py:2019\u001b[0m, in \u001b[0;36m_AxesBase.add_artist\u001b[1;34m(self, a)\u001b[0m\n\u001b[0;32m   2006\u001b[0m \u001b[39mdef\u001b[39;00m \u001b[39madd_artist\u001b[39m(\u001b[39mself\u001b[39m, a):\n\u001b[0;32m   2007\u001b[0m     \u001b[39m\"\"\"\u001b[39;00m\n\u001b[0;32m   2008\u001b[0m \u001b[39m    Add an `~.Artist` to the axes, and return the artist.\u001b[39;00m\n\u001b[0;32m   2009\u001b[0m \n\u001b[1;32m   (...)\u001b[0m\n\u001b[0;32m   2017\u001b[0m \u001b[39m    ``ax.transData``.\u001b[39;00m\n\u001b[0;32m   2018\u001b[0m \u001b[39m    \"\"\"\u001b[39;00m\n\u001b[1;32m-> 2019\u001b[0m     a\u001b[39m.\u001b[39maxes \u001b[39m=\u001b[39m \u001b[39mself\u001b[39m\n\u001b[0;32m   2020\u001b[0m     \u001b[39mself\u001b[39m\u001b[39m.\u001b[39martists\u001b[39m.\u001b[39mappend(a)\n\u001b[0;32m   2021\u001b[0m     a\u001b[39m.\u001b[39m_remove_method \u001b[39m=\u001b[39m \u001b[39mself\u001b[39m\u001b[39m.\u001b[39martists\u001b[39m.\u001b[39mremove\n",
      "File \u001b[1;32mc:\\Users\\Justo Puerto\\AppData\\Local\\Programs\\Python\\Python38\\lib\\site-packages\\matplotlib\\artist.py:226\u001b[0m, in \u001b[0;36mArtist.axes\u001b[1;34m(self, new_axes)\u001b[0m\n\u001b[0;32m    222\u001b[0m \u001b[39m@axes\u001b[39m\u001b[39m.\u001b[39msetter\n\u001b[0;32m    223\u001b[0m \u001b[39mdef\u001b[39;00m \u001b[39maxes\u001b[39m(\u001b[39mself\u001b[39m, new_axes):\n\u001b[0;32m    224\u001b[0m     \u001b[39mif\u001b[39;00m (new_axes \u001b[39mis\u001b[39;00m \u001b[39mnot\u001b[39;00m \u001b[39mNone\u001b[39;00m \u001b[39mand\u001b[39;00m \u001b[39mself\u001b[39m\u001b[39m.\u001b[39m_axes \u001b[39mis\u001b[39;00m \u001b[39mnot\u001b[39;00m \u001b[39mNone\u001b[39;00m\n\u001b[0;32m    225\u001b[0m             \u001b[39mand\u001b[39;00m new_axes \u001b[39m!=\u001b[39m \u001b[39mself\u001b[39m\u001b[39m.\u001b[39m_axes):\n\u001b[1;32m--> 226\u001b[0m         \u001b[39mraise\u001b[39;00m \u001b[39mValueError\u001b[39;00m(\u001b[39m\"\u001b[39m\u001b[39mCan not reset the axes.  You are probably \u001b[39m\u001b[39m\"\u001b[39m\n\u001b[0;32m    227\u001b[0m                          \u001b[39m\"\u001b[39m\u001b[39mtrying to re-use an artist in more than one \u001b[39m\u001b[39m\"\u001b[39m\n\u001b[0;32m    228\u001b[0m                          \u001b[39m\"\u001b[39m\u001b[39mAxes which is not supported\u001b[39m\u001b[39m\"\u001b[39m)\n\u001b[0;32m    229\u001b[0m     \u001b[39mself\u001b[39m\u001b[39m.\u001b[39m_axes \u001b[39m=\u001b[39m new_axes\n\u001b[0;32m    230\u001b[0m     \u001b[39mif\u001b[39;00m new_axes \u001b[39mis\u001b[39;00m \u001b[39mnot\u001b[39;00m \u001b[39mNone\u001b[39;00m \u001b[39mand\u001b[39;00m new_axes \u001b[39mis\u001b[39;00m \u001b[39mnot\u001b[39;00m \u001b[39mself\u001b[39m:\n",
      "\u001b[1;31mValueError\u001b[0m: Can not reset the axes.  You are probably trying to re-use an artist in more than one Axes which is not supported"
     ]
    },
    {
     "data": {
      "image/png": "[encoded data removed]",
      "text/plain": [
       "<Figure size 432x288 with 1 Axes>"
      ]
     },
     "metadata": {
      "needs_background": "light"
     },
     "output_type": "display_data"
    }
   ],
   "source": [
    "resultados = tspn_b(barreras, Circles, A4 = False, dominant=False, prepro=True, log=False, picture=True, time_limit=3600, init = False)"
   ]
  },
  {
   "cell_type": "code",
   "execution_count": null,
   "metadata": {},
   "outputs": [],
   "source": []
  }
 ],
 "metadata": {
  "kernelspec": {
   "display_name": "Python 3.8.10 64-bit",
   "language": "python",
   "name": "python3"
  },
  "language_info": {
   "codemirror_mode": {
    "name": "ipython",
    "version": 3
   },
   "file_extension": ".py",
   "mimetype": "text/x-python",
   "name": "python",
   "nbconvert_exporter": "python",
   "pygments_lexer": "ipython3",
   "version": "3.8.10"
  },
  "orig_nbformat": 4,
  "vscode": {
   "interpreter": {
    "hash": "2cb4b32848b575b4a7db09c5b1f9fc69a19ae98384086345943e16aeb603528e"
   }
  }
 },
 "nbformat": 4,
 "nbformat_minor": 2
}
